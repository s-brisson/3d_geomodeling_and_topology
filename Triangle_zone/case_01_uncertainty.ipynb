{
 "cells": [
  {
   "cell_type": "markdown",
   "metadata": {},
   "source": [
    "## Case study - assigning uncertainty\n",
    "\n",
    "By Sofia Brisson\n",
    "(credit to Elisa Heim for fishdist.py)\n",
    "\n",
    "Here we apply all the routines performed for the synthetic fault model on a real-case, much more complex scenario. Before seeing this notebook, refer to the notebooks in the synthetic model folder which contain a more detailed description of the methodology."
   ]
  },
  {
   "cell_type": "code",
   "execution_count": 1,
   "metadata": {
    "scrolled": false
   },
   "outputs": [
    {
     "name": "stderr",
     "output_type": "stream",
     "text": [
      "WARNING (theano.configdefaults): g++ not available, if using conda: `conda install m2w64-toolchain`\n",
      "WARNING (theano.configdefaults): g++ not detected ! Theano will be unable to execute optimized C-implementations (for both CPU and GPU) and will default to Python implementations. Performance will be severely degraded. To remove this warning, set Theano flags cxx to an empty string.\n",
      "WARNING (theano.tensor.blas): Using NumPy C-API based implementation for BLAS functions.\n"
     ]
    }
   ],
   "source": [
    "import warnings\n",
    "warnings.filterwarnings('ignore')\n",
    "import gempy as gp\n",
    "import numpy as np\n",
    "%matplotlib inline\n",
    "import matplotlib.pyplot as plt\n",
    "import pickle\n",
    "from gempy.assets import topology as tp\n",
    "from tqdm import tqdm_notebook\n",
    "import seaborn as sns\n",
    "import pandas as pd\n",
    "from tqdm import tqdm"
   ]
  },
  {
   "cell_type": "markdown",
   "metadata": {},
   "source": [
    "## Calculate initial geomodel"
   ]
  },
  {
   "cell_type": "code",
   "execution_count": 2,
   "metadata": {
    "scrolled": false
   },
   "outputs": [
    {
     "name": "stdout",
     "output_type": "stream",
     "text": [
      "Active grids: ['regular']\n",
      "Fault colors changed. If you do not like this behavior, set change_color to False.\n",
      "Setting kriging parameters to their default values.\n",
      "Compiling theano function...\n",
      "Level of Optimization:  fast_run\n",
      "Device:  cpu\n",
      "Precision:  float64\n",
      "Number of faults:  12\n",
      "Compilation Done!\n",
      "Kriging values: \n",
      "                                                      values\n",
      "range                                          45451.512626\n",
      "$C_o$                                       49186666.666667\n",
      "drift equations  [3, 3, 3, 3, 3, 3, 3, 3, 3, 3, 3, 3, 3, 3]\n"
     ]
    },
    {
     "data": {
      "text/plain": [
       "\n",
       "Lithology ids \n",
       "  [19. 18. 17. ... 14. 13. 13.] "
      ]
     },
     "execution_count": 2,
     "metadata": {},
     "output_type": "execute_result"
    }
   ],
   "source": [
    "geo_model1 = gp.create_model('Bregenz')\n",
    "geo_mode1l = gp.init_data(geo_model1,\n",
    "                         extent=[556000,574000,5234000,5275000,-6500,1300], #18 km by 41 km\n",
    "                         resolution=[20,20,20],\n",
    "                         path_o='or.csv',\n",
    "                         path_i='surf.csv')\n",
    "\n",
    "gp.map_stack_to_surfaces(geo_model1,\n",
    "                        {'Fault_004' : ['Fault_004'],'Fault_003' : ['Fault_003'],'Fault_001' : ['Fault_001'],\n",
    "                         'Fault_00' : ['Fault_00'],'Fault_2' : ['Fault_2'],'Fault_3' : ['Fault_3'],'Fault_4' : ['Fault_4'],\n",
    "                         'Fault_5' : ['Fault_5'],'Fault_6' : ['Fault_6'],'Fault_7' : ['Fault_7'],'Fault_8' : ['Fault_8'],\n",
    "                         'Fault_9' : ['Fault_9'],'sed_series' : ['UFM','UMM','Up_LFM','LFM','LMM','RDF']})\n",
    "\n",
    "geo_model1.set_is_fault(['Fault_004','Fault_003','Fault_001','Fault_00','Fault_2','Fault_3','Fault_4',\n",
    "                         'Fault_5','Fault_6','Fault_7','Fault_8','Fault_9'])\n",
    "\n",
    "geo_model1.surfaces.colors.change_colors({'UFM':'#f2f542', 'UMM':'#917e11',\n",
    "                                         'Up_LFM':'#ccbd6a','LFM':'#ccbd6a',\n",
    "                                         'LMM' : '#422902', 'RDF' : '#6ba0bf', 'basement' : '#6ba0bf'})\n",
    "\n",
    "interp_data = gp.set_interpolator(geo_model1,\n",
    "                                 compile_theano=True,\n",
    "                                 theano_optimizer='fast_run', gradient=False, dype='float32')\n",
    "gp.compute_model(geo_model1)\n",
    "\n",
    "#gp.plot_3d(geo_model1, show_lith = False, show_data = True, show_results = True)"
   ]
  },
  {
   "cell_type": "markdown",
   "metadata": {},
   "source": [
    "If you want to visualize the model in 3d:"
   ]
  },
  {
   "cell_type": "code",
   "execution_count": null,
   "metadata": {},
   "outputs": [],
   "source": [
    "gpv = gp.plot_3d(geo_model1, image=False, show_lith=True, show_data=True, show_results=True, plotter_type='background')\n",
    "gpv.p.set_background(color='gray')\n",
    "p = gpv.p\n",
    "#p.remove_bounds_axes()\n",
    "p.show()"
   ]
  },
  {
   "cell_type": "markdown",
   "metadata": {},
   "source": [
    "## Calculate topological information of the original model"
   ]
  },
  {
   "cell_type": "code",
   "execution_count": 3,
   "metadata": {},
   "outputs": [],
   "source": [
    "edges, centroids = tp.compute_topology(geo_model1)"
   ]
  },
  {
   "cell_type": "code",
   "execution_count": 6,
   "metadata": {},
   "outputs": [],
   "source": [
    "# Build fancy adjancy matrix (by Nils Chudalla)\n",
    "\n",
    "lith_ids = tp.get_lith_ids(geo_model1)\n",
    "liths = len(lith_ids)\n",
    "fault_ids = tp.get_fault_ids(geo_model1)\n",
    "faults = len(fault_ids)\n",
    "\n",
    "strat_matr = np.ones((faults*liths,faults*liths), dtype=int)\n",
    "\n",
    "adj_matrix = tp.get_adjacency_matrix(geo_model1, edges, centroids).astype(np.int)\n",
    "for i in range(faults):\n",
    "    strat_matr[i*(faults+1):i*(faults+1)+liths, i*(faults+1):i*(faults+1)+liths] = 2\n",
    "\n",
    "final_adj_matrix = strat_matr * adj_matrix"
   ]
  },
  {
   "cell_type": "code",
   "execution_count": 13,
   "metadata": {},
   "outputs": [
    {
     "data": {
      "image/png": "[encoded data removed]",
      "text/plain": [
       "<Figure size 396.85x396.85 with 3 Axes>"
      ]
     },
     "metadata": {
      "needs_background": "light"
     },
     "output_type": "display_data"
    }
   ],
   "source": [
    "import matplotlib.colors as mcolors\n",
    "\n",
    "### Define styling of figure\n",
    "fig_size = 14                               # figuresize in cm\n",
    "plot_lith_names = True                      # Turn True/False to either plot names of liths or only their IDs\n",
    "plot_fault_segments = True                  # Turn True/False to highlight the different segments of faults\n",
    "fault_seg_color = 'red'                     # Color of segmentation line\n",
    "cmap = mcolors.ListedColormap(\n",
    "    list(geo_model1._surfaces.df['color']))  # Automatic extraction of colors of geomodel\n",
    "\n",
    "# check out https://matplotlib.org/stable/tutorials/text/text_props.html for more options to make labels nice\n",
    "\n",
    "tick_labels = {\n",
    "    'family': 'arial',\n",
    "    'color':  'darkred',\n",
    "    'weight': 'bold',\n",
    "    'size': 11,\n",
    "    }\n",
    "\n",
    "### Build axes\n",
    "fig = plt.figure(figsize=(fig_size/2.54,fig_size/2.54))\n",
    "y0 = 0.0    # padding value for rel. distance to bottom\n",
    "x0 = 0.0    # padding value for rel. distance to left\n",
    "strati_width = 0.15     # scaling value for rel. thickness of colored bars\n",
    "box_height = 0.8    # scaling value for rel. width/height of matrix\n",
    "\n",
    "vert_ax = fig.add_axes([x0, y0, strati_width, box_height]) # build vertical axes\n",
    "hori_ax = fig.add_axes([x0+strati_width, y0+box_height, box_height, strati_width]) # build horizontal axes\n",
    "box_ax = fig.add_axes([x0+strati_width, y0,box_height, box_height]) # build matrix axes\n",
    "\n",
    "### Build stack of repeating liths to fill axis\n",
    "stratid_stack = np.array([])\n",
    "\n",
    "for i in range(faults):\n",
    "    stratid_stack = np.hstack([stratid_stack, lith_ids])\n",
    "\n",
    "### Build string list with lith names\n",
    "df = geo_model1.surfaces.df.set_index('id')\n",
    "strat_stack = df['surface'].loc[stratid_stack].values\n",
    "\n",
    "# plot colorbars and matrix\n",
    "hori_ax.imshow(stratid_stack.reshape(1,-1), origin='upper', aspect='auto', cmap=cmap)\n",
    "vert_ax.imshow(stratid_stack.reshape(-1,1), origin='upper', aspect='auto', cmap=cmap)\n",
    "\n",
    "box_ax.imshow(final_adj_matrix, cmap='gray_r')\n",
    "box_ax.xaxis.tick_top()\n",
    "\n",
    "# Style axis\n",
    "xticks = box_ax.get_xticklabels()\n",
    "yticks = box_ax.get_yticklabels()\n",
    "\n",
    "vert_ax.axis('off')\n",
    "hori_ax.axis('off')\n",
    "if plot_lith_names == True:\n",
    "    xticks[1:] = strat_stack\n",
    "    box_ax.set_xticklabels(xticks, minor=False, rotation=90, fontdict=tick_labels)\n",
    "    yticks[1:] = strat_stack\n",
    "    box_ax.set_yticklabels(yticks, minor=False, fontdict=tick_labels)\n",
    "else:\n",
    "    xticks[1:] = stratid_stack.astype(int)\n",
    "    box_ax.set_xticklabels(xticks, minor=False, fontdict=tick_labels)\n",
    "    yticks[1:] = stratid_stack.astype(int)\n",
    "    box_ax.set_yticklabels(yticks, minor=False, fontdict=tick_labels)\n",
    "\n",
    "# Plot fault segments if wanted\n",
    "if plot_fault_segments == True:\n",
    "    pos = (len(stratid_stack) - 1) / faults # length of fault ids\n",
    "    for i in range(1,faults):\n",
    "        box_ax.hlines(pos*i, -0.5, len(stratid_stack)-0.5, color=fault_seg_color)\n",
    "        box_ax.vlines(pos*i, -0.5, len(stratid_stack)-0.5, color=fault_seg_color)\n",
    "        vert_ax.hlines(pos*i, -0.5, 0.5, color=fault_seg_color)\n",
    "        hori_ax.vlines(pos*i, -0.5, 0.5, color=fault_seg_color)\n",
    "plt.show()\n",
    "\n"
   ]
  },
  {
   "cell_type": "markdown",
   "metadata": {},
   "source": [
    "We need to load the Z coordinate of each surface point, so that we can use it to calculate uncertainty as a function of the depth of that point."
   ]
  },
  {
   "cell_type": "code",
   "execution_count": 4,
   "metadata": {},
   "outputs": [],
   "source": [
    "depth_points = pd.read_csv('depth_points.csv') "
   ]
  },
  {
   "cell_type": "markdown",
   "metadata": {},
   "source": [
    "## Assigning Uncertainty "
   ]
  },
  {
   "cell_type": "code",
   "execution_count": 5,
   "metadata": {},
   "outputs": [
    {
     "name": "stdout",
     "output_type": "stream",
     "text": [
      "To fit a spherical distribution to the orientation measurements, spherecluster must be installed.\n"
     ]
    }
   ],
   "source": [
    "import copy\n",
    "import sys\n",
    "sys.path.append(\"./\")\n",
    "import fishdist as fish"
   ]
  },
  {
   "cell_type": "code",
   "execution_count": 6,
   "metadata": {},
   "outputs": [],
   "source": [
    "def create_vMF_list(geo_model, kappas, datatype = 'all'):\n",
    "    surfaces_df = geo_model.surfaces.df\n",
    "    orient_df = geo_model.orientations.df\n",
    "    vMF_list=[]\n",
    "    \n",
    "    if datatype == 'faultsonly':\n",
    "        faults = list(surfaces_df[surfaces_df['isFault'] == True].index)\n",
    "        df = orient_df[orient_df.surface.isin(faults)]\n",
    "        \n",
    "    elif datatype == 'lithonly':\n",
    "        notfaults = list(surfaces_df[surfaces_df['isFault'] == False].index)\n",
    "        df = orient_df[orient_df.series.isin(notfaults)]\n",
    "        \n",
    "    elif datatype == 'all':\n",
    "        df = orient_df\n",
    "        \n",
    "    else:\n",
    "        print('nö.')\n",
    "    for e, i in df[['G_x', 'G_y', 'G_z']].iterrows():\n",
    "        a = 0\n",
    "        vMF_list.append(fish.vMF('vMF_' + str(e), mean=i[['G_x', 'G_y', 'G_z']].values, kappa=kappas[a]))\n",
    "        a += 1\n",
    "    return vMF_list"
   ]
  },
  {
   "cell_type": "code",
   "execution_count": 7,
   "metadata": {},
   "outputs": [],
   "source": [
    "#save the different values to be able to make the model virgin again after each uncertainty loop\n",
    "surf_x_1 = geo_model1.surface_points.df['X']\n",
    "surf_y_1 = geo_model1.surface_points.df['Y']\n",
    "surf_z_1 = geo_model1.surface_points.df['Z']\n",
    "\n",
    "or_x = geo_model1.orientations.df['X']\n",
    "or_y = geo_model1.orientations.df['Y']\n",
    "or_z = geo_model1.orientations.df['Z']\n",
    "or_dip = geo_model1.orientations.df['dip']\n",
    "or_azimuth = geo_model1.orientations.df['azimuth']\n",
    "\n",
    "surf_indexes = list(geo_model1.surface_points.df.index)\n",
    "or_indexes = list(geo_model1.orientations.df.index)"
   ]
  },
  {
   "cell_type": "code",
   "execution_count": 8,
   "metadata": {},
   "outputs": [],
   "source": [
    "# make a copy of the initial dataframe\n",
    "or_1 = geo_model1.orientations.df.copy()\n",
    "\n",
    "# define concentration parameter for input data -??? What about the faults\n",
    "kappadict_1 = {'Fault_004' : 100, 'Fault_003' : 100, 'Fault_001' : 100, 'Fault_00' : 100,\n",
    "               'Fault_2' : 100, 'Fault_3' : 100, 'Fault_4' : 100, 'Fault_5' : 100, 'Fault_6' : 100,\n",
    "               'Fault_7' : 100, 'Fault_8' : 100, 'Fault_9' : 100,\n",
    "               'UFM' : 100, 'UMM' : 100, 'Up_LFM' : 100, 'LFM' : 100, 'LMM' : 100, 'RDF' : 100}\n",
    "\n",
    "# assign kappa values to the copied dataframe\n",
    "for surface, kappa in kappadict_1.items():\n",
    "    or_1.loc[or_1['surface'] == surface, 'kappa'] = kappa #orientations now has a new column with kappa\n",
    "    \n",
    "kappas = or_1['kappa']"
   ]
  },
  {
   "cell_type": "code",
   "execution_count": 9,
   "metadata": {},
   "outputs": [],
   "source": [
    "#in this list, a distribution for every orientation data point is stored, we can sample from that later.\n",
    "vMF_list = create_vMF_list(geo_model1, kappas, datatype = 'all')"
   ]
  },
  {
   "cell_type": "code",
   "execution_count": 10,
   "metadata": {},
   "outputs": [],
   "source": [
    "#check the model extent\n",
    "max_z = surf_z_1.min() # -5000 m\n",
    "min_z = surf_z_1.max() \n",
    "\n",
    "#from there downwards, uncertainty should increase\n",
    "min_uncert = 200\n",
    "max_uncert = 1500"
   ]
  },
  {
   "cell_type": "markdown",
   "metadata": {},
   "source": [
    "### Simulation"
   ]
  },
  {
   "cell_type": "code",
   "execution_count": 11,
   "metadata": {},
   "outputs": [],
   "source": [
    "#define for cleaner code\n",
    "subsurf_x = geo_model1.surface_points.df['X'][geo_model1.surface_points.df['Z']<=1000]\n",
    "subsurf_y = geo_model1.surface_points.df['Y'][geo_model1.surface_points.df['Z']<=1000]\n",
    "subsurf_z = geo_model1.surface_points.df['Z'][geo_model1.surface_points.df['Z']<=1000]\n",
    "\n",
    "surf_x = geo_model1.surface_points.df['X'][geo_model1.surface_points.df['Z']>1000]\n",
    "surf_y = geo_model1.surface_points.df['Y'][geo_model1.surface_points.df['Z']>1000]\n",
    "surf_z = geo_model1.surface_points.df['Z'][geo_model1.surface_points.df['Z']>1000]\n",
    "\n",
    "mask = np.ones(len(geo_model1.orientations.df), dtype = bool)"
   ]
  },
  {
   "cell_type": "markdown",
   "metadata": {},
   "source": [
    "#### Establish priors"
   ]
  },
  {
   "cell_type": "code",
   "execution_count": 12,
   "metadata": {},
   "outputs": [],
   "source": [
    "# priors: sample from each distribution\n",
    "def evaluate_sigma(iteration,surface_name, depth_points):\n",
    "    \n",
    "    dp_subsurf = depth_points[depth_points <= 1000]\n",
    "    dp_surf = depth_points[depth_points > 1000]\n",
    "    \n",
    "    depth_uncert_subsurf = np.abs((max_uncert*dp_subsurf[surface_name].dropna())/max_z)\n",
    "    \n",
    "    if surface_name in ['Fault_00','Fault_001','Fault_003','Fault_004']:\n",
    "        sigma_1 = np.random.normal(0, 3*(depth_uncert_subsurf))\n",
    "        sigma_2 = np.random.normal(0, 3*(depth_uncert_subsurf))\n",
    "        sigma_3 = np.random.normal(0, 4*(depth_uncert_subsurf))\n",
    "        sigma_4 = np.random.uniform(-200, 200)\n",
    "        sigma_5 = np.random.uniform(-200, 200)\n",
    "        sigma_6 = None\n",
    "        sigma_7 = None\n",
    "        sigma_8 = None\n",
    "        sigma_9 = None\n",
    "        sigma_10 = None\n",
    "        sigma_11 = None\n",
    "        \n",
    "    else:\n",
    "        sigma_1 = None\n",
    "        sigma_2 = None\n",
    "        sigma_3 = None\n",
    "        sigma_4 = None\n",
    "        sigma_5 = None\n",
    "        sigma_6 = np.random.normal(0, np.abs(depth_uncert_subsurf))\n",
    "        sigma_7 = np.random.normal(0, np.abs(depth_uncert_subsurf))\n",
    "        sigma_8 = np.random.normal(0, np.abs(1.5*(depth_uncert_subsurf)))\n",
    "        sigma_9 = np.random.uniform(-150, 150)\n",
    "        sigma_10 = np.random.uniform(-150, 150)\n",
    "        sigma_11 = np.random.normal(0, 5)\n",
    "    \n",
    "    return [iteration,sigma_1,sigma_2,sigma_3,sigma_4,sigma_5,sigma_6,sigma_7,sigma_8,sigma_9,sigma_10,sigma_11,surface_name]"
   ]
  },
  {
   "cell_type": "markdown",
   "metadata": {},
   "source": [
    "## Add uncertainty "
   ]
  },
  {
   "cell_type": "code",
   "execution_count": 13,
   "metadata": {},
   "outputs": [
    {
     "name": "stderr",
     "output_type": "stream",
     "text": [
      "100%|█████████████████████████████████████████████████████████████████████████████| 200/200 [6:22:24<00:00, 114.72s/it]\n"
     ]
    }
   ],
   "source": [
    "surfaces_1 = np.unique(geo_model1.surface_points.df['surface'])\n",
    "\n",
    "modify_by_surface = True\n",
    "modify_orientations = True\n",
    "save = True\n",
    "\n",
    "n_iterations = 200\n",
    "run_n = 1\n",
    "\n",
    "for iteration in tqdm(range(n_iterations)):\n",
    "    \n",
    "    #Make model virgin again\n",
    "    geo_model1.modify_surface_points(surf_indexes, X = surf_x_1, Y = surf_y_1, Z = surf_z_1)\n",
    "    geo_model1.modify_orientations(or_indexes, X = or_x, Y = or_y, Z = or_z, \n",
    "                                       dip = or_dip, azimuth = or_azimuth)\n",
    "    geo_model1.update_to_interpolator()\n",
    "        \n",
    "    if modify_by_surface == True:\n",
    "        sigma_list = []\n",
    "        for surf in surfaces_1: \n",
    "                \n",
    "            if surf in ['Fault_00','Fault_001','Fault_003','Fault_004']:\n",
    "                sigma_list.append(evaluate_sigma(iteration,surf, depth_points))\n",
    "\n",
    "                subsurf_x[geo_model1.surface_points.df['surface'] == surf] = subsurf_x[geo_model1.surface_points.df['surface'] == surf]  + sigma_list[-1][1]\n",
    "                subsurf_y[geo_model1.surface_points.df['surface'] == surf] = subsurf_y[geo_model1.surface_points.df['surface'] == surf]  + sigma_list[-1][2]\n",
    "\n",
    "                # add uncertainty to subsurface position z (uncertainty increases with depth)\n",
    "                subsurf_z[geo_model1.surface_points.df['surface'] == surf] = subsurf_z[geo_model1.surface_points.df['surface'] == surf]  + sigma_list[-1][3]\n",
    "\n",
    "                # add uncertainty to surface position x,y\n",
    "                surf_x[geo_model1.surface_points.df['surface'] == surf] = surf_x[geo_model1.surface_points.df['surface'] == surf]  + sigma_list[-1][4]\n",
    "                surf_y[geo_model1.surface_points.df['surface'] == surf] = surf_y[geo_model1.surface_points.df['surface'] == surf]  + sigma_list[-1][5]\n",
    "\n",
    "            else:\n",
    "                    \n",
    "                sigma_list.append(evaluate_sigma(iteration,surf, depth_points))\n",
    "\n",
    "                subsurf_x[geo_model1.surface_points.df['surface'] == surf] = subsurf_x[geo_model1.surface_points.df['surface'] == surf]  + sigma_list[-1][6]\n",
    "                subsurf_y[geo_model1.surface_points.df['surface'] == surf] = subsurf_y[geo_model1.surface_points.df['surface'] == surf]  + sigma_list[-1][7]\n",
    "\n",
    "                # add uncertainty to subsurface position z (uncertainty increases with depth)\n",
    "                subsurf_z[geo_model1.surface_points.df['surface'] == surf] = subsurf_z[geo_model1.surface_points.df['surface'] == surf]  + sigma_list[-1][8]\n",
    "\n",
    "                # add uncertainty to surface position x,y\n",
    "                surf_x[geo_model1.surface_points.df['surface'] == surf] = surf_x[geo_model1.surface_points.df['surface'] == surf]  + sigma_list[-1][9]\n",
    "                surf_y[geo_model1.surface_points.df['surface'] == surf] = surf_y[geo_model1.surface_points.df['surface'] == surf]  + sigma_list[-1][10]\n",
    "\n",
    "                # add z uncertainty to surface data\n",
    "                surf_z[geo_model1.surface_points.df['surface'] == surf] = surf_z[geo_model1.surface_points.df['surface'] == surf]  + sigma_list[-1][11]\n",
    "\n",
    "        if modify_orientations == True:\n",
    "            new_orientations = np.vstack(list(map(lambda x : x.sample(num_samples = 1, \n",
    "                                                                      direct_output = True)[0],vMF_list)))\n",
    "            a = fish.vMF()\n",
    "            a.add_orientation_data(new_orientations)\n",
    "\n",
    "            geo_model1.orientations.df.loc[mask, ['G_x', 'G_y', 'G_z']] = new_orientations\n",
    "            geo_model1.orientations.df.loc[mask, 'azmiuth'] = a.samples_azdip[:,0]\n",
    "            geo_model1.orientations.df.loc[mask, 'dip'] = a.samples_azdip[:,1]\n",
    "\n",
    "        geo_model1.update_to_interpolator()\n",
    "        gp.compute_model(geo_model1)\n",
    "    \n",
    "    if save == True:\n",
    "        np.save('lith_blocks/block_vesta_'+str(run_n)+'_%04d.npy'%iteration, geo_model1.solutions.lith_block)\n",
    "        np.save('fault_blocks/fblock_vesta_'+str(run_n)+'_%04d.npy'%iteration, geo_model1.solutions.fault_block)\n",
    "    "
   ]
  }
 ],
 "metadata": {
  "kernelspec": {
   "display_name": "Python 3",
   "language": "python",
   "name": "python3"
  },
  "language_info": {
   "codemirror_mode": {
    "name": "ipython",
    "version": 3
   },
   "file_extension": ".py",
   "mimetype": "text/x-python",
   "name": "python",
   "nbconvert_exporter": "python",
   "pygments_lexer": "ipython3",
   "version": "3.8.5"
  }
 },
 "nbformat": 4,
 "nbformat_minor": 5
}
